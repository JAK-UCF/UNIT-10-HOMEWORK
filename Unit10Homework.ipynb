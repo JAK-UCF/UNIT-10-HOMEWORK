{
 "cells": [
  {
   "cell_type": "markdown",
   "metadata": {},
   "source": [
    "# Surf's Up \n",
    "## Unit 10: Advanced SQL and APIs"
   ]
  },
  {
   "cell_type": "code",
   "execution_count": 1,
   "metadata": {},
   "outputs": [],
   "source": [
    "import os\n",
    "import matplotlib.pyplot as plt\n",
    "import pandas as pd\n",
    "import numpy as np\n",
    "import datetime as dt\n",
    "import sqlalchemy\n",
    "from sqlalchemy.ext.automap import automap_base\n",
    "from sqlalchemy.orm import Session\n",
    "from sqlalchemy import create_engine, func, inspect, desc\n",
    "\n",
    "from pandas.plotting import register_matplotlib_converters\n",
    "register_matplotlib_converters()\n",
    "\n",
    "# pd.options.display.max_rows = 3000\n",
    "\n",
    "# create engine for connections/sessions\n",
    "engine = create_engine(\"sqlite:///Resources/hawaii.sqlite\")\n",
    "Base = automap_base()\n",
    "Base.prepare(engine, reflect=True)"
   ]
  },
  {
   "cell_type": "code",
   "execution_count": 2,
   "metadata": {},
   "outputs": [],
   "source": [
    "# build inspector (used throughout)\n",
    "inspector = inspect(engine)"
   ]
  },
  {
   "cell_type": "code",
   "execution_count": 3,
   "metadata": {},
   "outputs": [],
   "source": [
    "# gather keys for data\n",
    "# Base.classes.keys()\n",
    "\n",
    "## this is functionally the same as\n",
    "# inspector = inspect(engine)\n",
    "# inspector.get_table_names()\n",
    "\n",
    "# ENIGNE RESULTS: measurement, station"
   ]
  },
  {
   "cell_type": "code",
   "execution_count": 4,
   "metadata": {},
   "outputs": [],
   "source": [
    "# inspect station data (specifically looking for column names...)\n",
    "\n",
    "# Station_info = inspector.get_columns('station')\n",
    "# for header in Station_info:\n",
    "#     print(header['name'])\n",
    "\n",
    "## STATION RESULTS: id, station, name, latitude, longitude, elevation"
   ]
  },
  {
   "cell_type": "code",
   "execution_count": 5,
   "metadata": {},
   "outputs": [],
   "source": [
    "# inspect measurement data (specifically looking for column names...)\n",
    "\n",
    "# Measurement_info = inspector.get_columns('measurement')\n",
    "# for header in Measurement_info:\n",
    "#     print(header['name'])\n",
    "\n",
    "## MEASUREMENT RESULTS: id, station, date, prcp, tobs"
   ]
  },
  {
   "cell_type": "code",
   "execution_count": 6,
   "metadata": {},
   "outputs": [],
   "source": [
    "# reflect tables into classes\n",
    "Station = Base.classes.station\n",
    "Measurement = Base.classes.measurement"
   ]
  },
  {
   "cell_type": "code",
   "execution_count": 7,
   "metadata": {},
   "outputs": [],
   "source": [
    "session = Session(engine)"
   ]
  },
  {
   "cell_type": "code",
   "execution_count": 8,
   "metadata": {},
   "outputs": [],
   "source": [
    "conn = engine.connect()"
   ]
  },
  {
   "cell_type": "markdown",
   "metadata": {},
   "source": [
    "## Precipitation Analysis"
   ]
  },
  {
   "cell_type": "code",
   "execution_count": 9,
   "metadata": {},
   "outputs": [],
   "source": [
    "# read data into df, convert date from string to usable datetime\n",
    "# query to retrieve the date and precipitation scores\n",
    "precipitation_df = pd.read_sql_query('SELECT \"date\", \"prcp\" FROM measurement', conn)"
   ]
  },
  {
   "cell_type": "code",
   "execution_count": 10,
   "metadata": {},
   "outputs": [],
   "source": [
    "# calculate the date 1 year ago from the last data point in the database\n",
    "precipitation_df['date'] = pd.to_datetime(precipitation_df['date'])\n",
    "end = precipitation_df['date'].max()\n",
    "start = end - dt.timedelta(days=364)"
   ]
  },
  {
   "cell_type": "code",
   "execution_count": 11,
   "metadata": {},
   "outputs": [],
   "source": [
    "# save the query results as a Pandas DataFrame\n",
    "year_of_precip = (precipitation_df['date'] >= start) & (precipitation_df['date'] <= end)\n",
    "twelve_mo_precip_df = precipitation_df.loc[year_of_precip]\n",
    "# twelve_mo_precip_df.head()"
   ]
  },
  {
   "cell_type": "code",
   "execution_count": 12,
   "metadata": {},
   "outputs": [],
   "source": [
    "#  and set the index to the date column\n",
    "#  sort the dataframe by date, .groupby to get TOTAL BY DAY\n",
    "precip_df = twelve_mo_precip_df.groupby('date')\n",
    "plotting_precip_df = precip_df.sum()\n",
    "# plotting_precip_df.head()"
   ]
  },
  {
   "cell_type": "code",
   "execution_count": 13,
   "metadata": {},
   "outputs": [
    {
     "data": {
      "image/png": "[encoded data removed]",
      "text/plain": [
       "<Figure size 720x468 with 1 Axes>"
      ]
     },
     "metadata": {
      "needs_background": "light"
     },
     "output_type": "display_data"
    }
   ],
   "source": [
    "# plot daily precipitation totals from the dataframe\n",
    "\n",
    "plotting_precip_df.plot(kind='bar', figsize=(10, 6.5))\n",
    "\n",
    "plt.title('Daily Precipitation Totals', fontsize = 25)\n",
    "plt.xlabel('Dates', fontsize = 18)\n",
    "plt.ylabel('Precipitation (inches)', fontsize = 18)\n",
    "plt.yticks(fontsize = 10)\n",
    "\n",
    "plt.tick_params(\n",
    "    axis='x', \n",
    "    which='both', \n",
    "    bottom=False, \n",
    "    top=False, \n",
    "    labelbottom=False) \n",
    "\n",
    "legend = plt.legend()\n",
    "legend.remove()\n",
    "\n",
    "plt.tight_layout()\n",
    "plt.savefig('Images/Daily Precipitation Totals.png')\n",
    "plt.show()\n",
    "\n",
    "# REVISIT: figure out how to put in periodic x-ticks with corresponding labels\n",
    "# 365 bars is too many for *good* visualization if you are trying to *use* it to make a decision..\n",
    "# If just for seeing the 'shape' it's fine..."
   ]
  },
  {
   "cell_type": "code",
   "execution_count": 14,
   "metadata": {},
   "outputs": [
    {
     "data": {
      "text/html": [
       "<div>\n",
       "<style scoped>\n",
       "    .dataframe tbody tr th:only-of-type {\n",
       "        vertical-align: middle;\n",
       "    }\n",
       "\n",
       "    .dataframe tbody tr th {\n",
       "        vertical-align: top;\n",
       "    }\n",
       "\n",
       "    .dataframe thead th {\n",
       "        text-align: right;\n",
       "    }\n",
       "</style>\n",
       "<table border=\"1\" class=\"dataframe\">\n",
       "  <thead>\n",
       "    <tr style=\"text-align: right;\">\n",
       "      <th></th>\n",
       "      <th>prcp</th>\n",
       "    </tr>\n",
       "  </thead>\n",
       "  <tbody>\n",
       "    <tr>\n",
       "      <th>count</th>\n",
       "      <td>365.000000</td>\n",
       "    </tr>\n",
       "    <tr>\n",
       "      <th>mean</th>\n",
       "      <td>0.974164</td>\n",
       "    </tr>\n",
       "    <tr>\n",
       "      <th>std</th>\n",
       "      <td>1.776466</td>\n",
       "    </tr>\n",
       "    <tr>\n",
       "      <th>min</th>\n",
       "      <td>0.000000</td>\n",
       "    </tr>\n",
       "    <tr>\n",
       "      <th>25%</th>\n",
       "      <td>0.050000</td>\n",
       "    </tr>\n",
       "    <tr>\n",
       "      <th>50%</th>\n",
       "      <td>0.400000</td>\n",
       "    </tr>\n",
       "    <tr>\n",
       "      <th>75%</th>\n",
       "      <td>1.080000</td>\n",
       "    </tr>\n",
       "    <tr>\n",
       "      <th>max</th>\n",
       "      <td>14.280000</td>\n",
       "    </tr>\n",
       "  </tbody>\n",
       "</table>\n",
       "</div>"
      ],
      "text/plain": [
       "             prcp\n",
       "count  365.000000\n",
       "mean     0.974164\n",
       "std      1.776466\n",
       "min      0.000000\n",
       "25%      0.050000\n",
       "50%      0.400000\n",
       "75%      1.080000\n",
       "max     14.280000"
      ]
     },
     "execution_count": 14,
     "metadata": {},
     "output_type": "execute_result"
    }
   ],
   "source": [
    "# print summary stats for daily precipitation\n",
    "plotting_precip_df.describe()"
   ]
  },
  {
   "cell_type": "markdown",
   "metadata": {},
   "source": [
    "## Station Analysis"
   ]
  },
  {
   "cell_type": "markdown",
   "metadata": {},
   "source": [
    "### Total Number of Stations:"
   ]
  },
  {
   "cell_type": "code",
   "execution_count": 15,
   "metadata": {},
   "outputs": [
    {
     "name": "stdout",
     "output_type": "stream",
     "text": [
      "There are 9 participating stations.\n"
     ]
    }
   ],
   "source": [
    "# query for total number of stations\n",
    "station_count = session.query(Station.name).count()\n",
    "print(f'There are {station_count} participating stations.')"
   ]
  },
  {
   "cell_type": "markdown",
   "metadata": {},
   "source": [
    "### Stations by Observation Count:"
   ]
  },
  {
   "cell_type": "code",
   "execution_count": 16,
   "metadata": {},
   "outputs": [
    {
     "name": "stdout",
     "output_type": "stream",
     "text": [
      "('USC00519281', 'WAIHEE 837.5, HI US', 2772)\n",
      "('USC00519397', 'WAIKIKI 717.2, HI US', 2724)\n",
      "('USC00513117', 'KANEOHE 838.1, HI US', 2709)\n",
      "('USC00519523', 'WAIMANALO EXPERIMENTAL FARM, HI US', 2669)\n",
      "('USC00516128', 'MANOA LYON ARBO 785.2, HI US', 2612)\n",
      "('USC00514830', 'KUALOA RANCH HEADQUARTERS 886.9, HI US', 2202)\n",
      "('USC00511918', 'HONOLULU OBSERVATORY 702.2, HI US', 1979)\n",
      "('USC00517948', 'PEARL CITY, HI US', 1372)\n",
      "('USC00518838', 'UPPER WAHIAWA 874.3, HI US', 511)\n"
     ]
    }
   ],
   "source": [
    "# list stations by observation count in descending order\n",
    "station_activity = session.query(Measurement.station, Station.name, func.count(Measurement.tobs)).\\\n",
    "    group_by(Measurement.station).\\\n",
    "    filter(Measurement.station == Station.station).\\\n",
    "    order_by(func.count(Measurement.tobs).\\\n",
    "    desc())\n",
    "\n",
    "for station in station_activity:\n",
    "    print(station)"
   ]
  },
  {
   "cell_type": "markdown",
   "metadata": {},
   "source": [
    "### Station with Most Observations:"
   ]
  },
  {
   "cell_type": "code",
   "execution_count": 17,
   "metadata": {},
   "outputs": [
    {
     "name": "stdout",
     "output_type": "stream",
     "text": [
      "Station: USC00519281\n",
      "Station Name: WAIHEE, HI\n",
      "Observation Count: 2772\n"
     ]
    }
   ],
   "source": [
    "station_activity_max = session.query(Measurement.station, Station.name, func.count(Measurement.tobs)).\\\n",
    "    group_by(Measurement.station).\\\n",
    "    filter(Measurement.station == Station.station).\\\n",
    "    order_by(func.count(Measurement.tobs).desc()).\\\n",
    "    first()\n",
    "\n",
    "use_station = station_activity_max[0]\n",
    "use_name = f'{station_activity_max[1][0:6]}, {station_activity_max[1][-5:-3]}'\n",
    "\n",
    "print(f'Station: {use_station}')\n",
    "print(f'Station Name: {use_name}')\n",
    "print(f'Observation Count: {station_activity_max[2]}')"
   ]
  },
  {
   "cell_type": "markdown",
   "metadata": {},
   "source": [
    "### Temperature Analysis of Station with Most Observations:"
   ]
  },
  {
   "cell_type": "code",
   "execution_count": 18,
   "metadata": {},
   "outputs": [
    {
     "name": "stdout",
     "output_type": "stream",
     "text": [
      "Minimum recorded temperature at Station USC00519281 in WAIHEE, HI is 54.0.\n",
      "Maximum recorded temperature at Station USC00519281 in WAIHEE, HI is 85.0.\n",
      "Average recorded temperature at Station USC00519281 in WAIHEE, HI is 71.7.\n"
     ]
    }
   ],
   "source": [
    "# using the station id with highest obseration count, calculate min, max, and avg temperature recorded there\n",
    "\n",
    "station_measurements = session.query(func.min(Measurement.tobs),\n",
    "                                     func.max(Measurement.tobs),\n",
    "                                     func.avg(Measurement.tobs)).\\\n",
    "                       filter(Measurement.station == use_station).all()\n",
    "station_measurements\n",
    "\n",
    "statement = f'recorded temperature at Station {use_station} in {use_name} is'\n",
    "\n",
    "print(f'Minimum {statement} {station_measurements[0][0]}.')\n",
    "print(f'Maximum {statement} {station_measurements[0][1]}.')\n",
    "print(f'Average {statement} {round(station_measurements[0][2], 1)}.')"
   ]
  },
  {
   "cell_type": "code",
   "execution_count": 19,
   "metadata": {},
   "outputs": [],
   "source": [
    "temperature_df = pd.read_sql_query('SELECT \"station\", \"date\", \"tobs\" FROM measurement', conn)"
   ]
  },
  {
   "cell_type": "code",
   "execution_count": 20,
   "metadata": {},
   "outputs": [],
   "source": [
    "temperature_df['date'] = pd.to_datetime(temperature_df['date'])\n",
    "end = temperature_df['date'].max()\n",
    "start = end - dt.timedelta(days=364)\n",
    "# temperature_df"
   ]
  },
  {
   "cell_type": "code",
   "execution_count": 21,
   "metadata": {},
   "outputs": [],
   "source": [
    "# query the last 12 months (=365 days) of temp obs for this station and plot as a histogram\n",
    "year_of_temp = (temperature_df['date'] >= start)\n",
    "twelve_mo_temp_df = temperature_df.loc[year_of_temp]\n",
    "# twelve_mo_temp_df.head()"
   ]
  },
  {
   "cell_type": "code",
   "execution_count": 22,
   "metadata": {},
   "outputs": [],
   "source": [
    "# use the station with the highest number of temperature observations\n",
    "specific_temps = (temperature_df['station'] == 'USC00519281')\n",
    "USC00519281_temps_df = temperature_df[specific_temps]\n",
    "# USC00519281_temps_df.head()\n",
    "\n",
    "# validate session.query for min/max/avg via pandas...\n",
    "# .count() = 2772 | .min() = 54 | .max() = 85 | .mean() = 71.66 "
   ]
  },
  {
   "cell_type": "code",
   "execution_count": 23,
   "metadata": {},
   "outputs": [],
   "source": [
    "# need to trim USC00519281_temps_df for just the last 365 days of observations\n",
    "usc_81_year = (USC00519281_temps_df['date'] >= start)\n",
    "plotting_temp_df = USC00519281_temps_df.loc[usc_81_year]\n",
    "# plotting_temp_df.head()\n",
    "\n",
    "# .count() = 351 | .min() = 59 | .max() = 83 | .mean() = 73.2 "
   ]
  },
  {
   "cell_type": "code",
   "execution_count": 24,
   "metadata": {},
   "outputs": [
    {
     "data": {
      "image/png": "[encoded data removed]",
      "text/plain": [
       "<Figure size 720x468 with 1 Axes>"
      ]
     },
     "metadata": {
      "needs_background": "light"
     },
     "output_type": "display_data"
    }
   ],
   "source": [
    "# plot to histogram\n",
    "plotting_temp_df.hist(column = 'tobs', bins = 12, figsize=(10, 6.5))\n",
    "                      \n",
    "plt.title(f'Temperature Frequency in {use_name}', fontsize = 25)\n",
    "plt.xlabel('Temperature', fontsize = 18)\n",
    "plt.ylabel('Occurrences', fontsize = 18)\n",
    "plt.xticks(fontsize = 12)\n",
    "plt.yticks(fontsize = 12)\n",
    "\n",
    "plt.tight_layout()\n",
    "plt.savefig('Images/Temperature Frequency.png')\n",
    "plt.show()"
   ]
  },
  {
   "cell_type": "markdown",
   "metadata": {},
   "source": [
    "## Evaluating Trip Dates"
   ]
  },
  {
   "cell_type": "code",
   "execution_count": 25,
   "metadata": {},
   "outputs": [],
   "source": [
    "# `calc_temps` accepts start and end dates in the format '%Y-%m-%d' \n",
    "# it returns the minimum, average, and maximum temperatures for that range of dates\n",
    "def calc_temps(start_date, end_date):\n",
    "    \"\"\"TMIN, TAVG, and TMAX for a list of dates.\n",
    "    \n",
    "    Args:\n",
    "        start_date (string): A date string in the format %Y-%m-%d\n",
    "        end_date (string): A date string in the format %Y-%m-%d\n",
    "        \n",
    "    Returns:\n",
    "        TMIN, TAVE, and TMAX\n",
    "    \"\"\"\n",
    "    \n",
    "    return session.query(func.min(Measurement.tobs), func.avg(Measurement.tobs), func.max(Measurement.tobs)).\\\n",
    "        filter(Measurement.date >= start_date).filter(Measurement.date <= end_date).all()"
   ]
  },
  {
   "cell_type": "markdown",
   "metadata": {},
   "source": [
    "### Calculating minimum, average, and maximum temperatures over selected dates:"
   ]
  },
  {
   "cell_type": "code",
   "execution_count": 26,
   "metadata": {},
   "outputs": [
    {
     "name": "stdout",
     "output_type": "stream",
     "text": [
      "The anticipated low temperature over my travel dates should be around 59.0.\n",
      "The average expected temperature over my travel dates should be around 70.6.\n",
      "The expected high temperature over my travel dates should be around 80.0.\n"
     ]
    }
   ],
   "source": [
    "# Use your previous function `calc_temps` to calculate the tmin, tavg, and tmax \n",
    "# for your trip using the previous year's data for those same dates.\n",
    "\n",
    "my_trip = calc_temps('2017-02-09', '2017-02-19')\n",
    "\n",
    "print(f'The anticipated low temperature over my travel dates should be around {my_trip[0][0]}.')\n",
    "print(f'The average expected temperature over my travel dates should be around {round(my_trip[0][1], 1)}.')\n",
    "print(f'The expected high temperature over my travel dates should be around {my_trip[0][2]}.')"
   ]
  },
  {
   "cell_type": "code",
   "execution_count": 27,
   "metadata": {},
   "outputs": [
    {
     "data": {
      "image/png": "[encoded data removed]",
      "text/plain": [
       "<Figure size 288x576 with 1 Axes>"
      ]
     },
     "metadata": {
      "needs_background": "light"
     },
     "output_type": "display_data"
    }
   ],
   "source": [
    "# plot results of query as a bar chart, Title: \"Trip Avg Temp\", y = avg temp, yerr = end to end (tmax-tmin) value\n",
    "# save and display image\n",
    "\n",
    "my_trip_avg = round(my_trip[0][1], 1)\n",
    "\n",
    "plt.figure(figsize=(4,8))\n",
    "plt.bar(0, my_trip_avg, color = \"lightblue\", yerr = ((my_trip[0][2])-(my_trip[0][0]))/2)\n",
    "\n",
    "plt.title('Trip Avg Temp', fontsize = 20)\n",
    "plt.grid(which = 'major', axis = 'y')\n",
    "\n",
    "plt.xlabel('February 09-19, 2017', fontsize = 14.5)\n",
    "plt.xlim(-.53,.53)\n",
    "plt.xticks(ticks=[])\n",
    "\n",
    "plt.ylabel('Temperature (F)', fontsize = 16)\n",
    "plt.ylim(0,100)\n",
    "plt.yticks(fontsize = 13)\n",
    "\n",
    "plt.tight_layout()\n",
    "plt.savefig('Images/Trip Avg Temp.png')\n",
    "plt.show()"
   ]
  },
  {
   "cell_type": "code",
   "execution_count": null,
   "metadata": {},
   "outputs": [],
   "source": []
  },
  {
   "cell_type": "code",
   "execution_count": null,
   "metadata": {},
   "outputs": [],
   "source": []
  },
  {
   "cell_type": "code",
   "execution_count": null,
   "metadata": {},
   "outputs": [],
   "source": []
  },
  {
   "cell_type": "code",
   "execution_count": null,
   "metadata": {},
   "outputs": [],
   "source": []
  },
  {
   "cell_type": "code",
   "execution_count": null,
   "metadata": {},
   "outputs": [],
   "source": []
  },
  {
   "cell_type": "code",
   "execution_count": null,
   "metadata": {},
   "outputs": [],
   "source": [
    "# Calculate the total amount of rainfall per weather station for your trip dates using the previous year's matching dates.\n",
    "# Sort this in descending order by precipitation amount and list the station, name, latitude, longitude, and elevation\n"
   ]
  },
  {
   "cell_type": "code",
   "execution_count": null,
   "metadata": {},
   "outputs": [],
   "source": [
    "# Create a query that will calculate the daily normals \n",
    "# (i.e. the averages for tmin, tmax, and tavg for all historic data matching a specific month and day)\n",
    "\n",
    "def daily_normals(date):\n",
    "    \"\"\"Daily Normals.\n",
    "    \n",
    "    Args:\n",
    "        date (str): A date string in the format '%m-%d'\n",
    "        \n",
    "    Returns:\n",
    "        A list of tuples containing the daily normals, tmin, tavg, and tmax\n",
    "    \n",
    "    \"\"\"\n",
    "    \n",
    "    sel = [func.min(Measurement.tobs), func.avg(Measurement.tobs), func.max(Measurement.tobs)]\n",
    "    return session.query(*sel).filter(func.strftime(\"%m-%d\", Measurement.date) == date).all()\n",
    "    \n",
    "daily_normals(\"01-01\")"
   ]
  },
  {
   "cell_type": "code",
   "execution_count": null,
   "metadata": {},
   "outputs": [],
   "source": [
    "# calculate the daily normals for your trip\n",
    "# push each tuple of calculations into a list called `normals`\n",
    "\n",
    "# Set the start and end date of the trip\n",
    "\n",
    "# Use the start and end date to create a range of dates\n",
    "\n",
    "# Stip off the year and save a list of %m-%d strings\n",
    "\n",
    "# Loop through the list of %m-%d strings and calculate the normals for each date"
   ]
  },
  {
   "cell_type": "code",
   "execution_count": null,
   "metadata": {},
   "outputs": [],
   "source": [
    "# Load the previous query results into a Pandas DataFrame and add the `trip_dates` range as the `date` index"
   ]
  },
  {
   "cell_type": "code",
   "execution_count": null,
   "metadata": {},
   "outputs": [],
   "source": [
    "# Plot the daily normals as an area plot with `stacked=False`\n",
    "# save and display image\n",
    "plt.savefig('Images/Daily Normals.png')\n",
    "plt.show()"
   ]
  }
 ],
 "metadata": {
  "kernelspec": {
   "display_name": "Python 3",
   "language": "python",
   "name": "python3"
  },
  "language_info": {
   "codemirror_mode": {
    "name": "ipython",
    "version": 3
   },
   "file_extension": ".py",
   "mimetype": "text/x-python",
   "name": "python",
   "nbconvert_exporter": "python",
   "pygments_lexer": "ipython3",
   "version": "3.7.3"
  },
  "varInspector": {
   "cols": {
    "lenName": 16,
    "lenType": 16,
    "lenVar": 40
   },
   "kernels_config": {
    "python": {
     "delete_cmd_postfix": "",
     "delete_cmd_prefix": "del ",
     "library": "var_list.py",
     "varRefreshCmd": "print(var_dic_list())"
    },
    "r": {
     "delete_cmd_postfix": ") ",
     "delete_cmd_prefix": "rm(",
     "library": "var_list.r",
     "varRefreshCmd": "cat(var_dic_list()) "
    }
   },
   "types_to_exclude": [
    "module",
    "function",
    "builtin_function_or_method",
    "instance",
    "_Feature"
   ],
   "window_display": false
  }
 },
 "nbformat": 4,
 "nbformat_minor": 2
}
